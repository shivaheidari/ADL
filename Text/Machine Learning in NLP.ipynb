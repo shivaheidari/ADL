{
  "cells": [
    {
      "cell_type": "markdown",
      "metadata": {
        "id": "tXCWH48xD8pm"
      },
      "source": [
        "<center>\n",
        "    <img src=\"https://www.ucalgary.ca/themes/ucalgary/ucws_theme/images/UCalgary.svg\" width='30%'>\n",
        "</center>\n",
        "\n",
        "[comment]: <> (The following line is for the TOPIC of the week)\n",
        "<p style=\"text-align:left;\"><font size='4'><b> Introduction to NLP </b></font></p>\n",
        "\n",
        "---\n",
        "\n",
        "\n",
        "# Machine Learning in NLP\n",
        "\n",
        "Most ML model development cycle can be done in five steps:\n",
        "1. Get the data\n",
        "2. Feature Engineering\n",
        "3. Choose and Train a ML/DL model\n",
        "4. Validate the model\n",
        "5. Deploy the model\n",
        "\n",
        "For NLP+ML, all steps can be the same except Feature Engineering -- How to represent the text data.\n",
        "\n",
        "\n"
      ]
    },
    {
      "cell_type": "markdown",
      "metadata": {
        "id": "xEzZbmP9q9SX"
      },
      "source": [
        "## Example use case -- text classification\n",
        "\n",
        "### movie review\n",
        "IMDB dataset having 50K movie reviews for natural language processing or Text analytics.\n",
        "This is a dataset for binary sentiment classification containing substantially more data than previous benchmark datasets. We provide a set of 25,000 highly polar movie reviews for training and 25,000 for testing. So, predict the number of positive and negative reviews using either classification or deep learning algorithms.\n",
        "For more dataset information, please go through the following link,\n",
        "http://ai.stanford.edu/~amaas/data/sentiment/"
      ]
    },
    {
      "cell_type": "code",
      "execution_count": 23,
      "metadata": {
        "id": "_JdHnGRWq7Ve"
      },
      "outputs": [],
      "source": [
        "# load movie review dataset\n",
        "import os\n",
        "if not os.path.exists('aclImdb'):\n",
        "    !wget http://ai.stanford.edu/~amaas/data/sentiment/aclImdb_v1.tar.gz\n",
        "    !tar -zxvf aclImdb_v1.tar.gz"
      ]
    },
    {
      "cell_type": "code",
      "execution_count": 24,
      "metadata": {
        "colab": {
          "base_uri": "https://localhost:8080/"
        },
        "id": "MuQPN-V_rg4c",
        "outputId": "6754afbb-42cf-4b61-92b0-86979ce0bc5d"
      },
      "outputs": [
        {
          "name": "stdout",
          "output_type": "stream",
          "text": [
            "Bromwell High is a cartoon comedy. It ran at the same time as some other programs about school life, such as \"Teachers\". My 35 years in the teaching profession lead me to believe that Bromwell High's satire is much closer to reality than is \"Teachers\". The scramble to survive financially, the insightful students who can see right through their pathetic teachers' pomp, the pettiness of the whole situation, all remind me of the schools I knew and their students. When I saw the episode in which a student repeatedly tried to burn down the school, I immediately recalled ......... at .......... High. A classic line: INSPECTOR: I'm here to sack one of your teachers. STUDENT: Welcome to Bromwell High. I expect that many adults of my age think that Bromwell High is far fetched. What a pity that it isn't!\n"
          ]
        }
      ],
      "source": [
        "with open('aclImdb/train/pos/0_9.txt') as f:\n",
        "    print(f.read())"
      ]
    },
    {
      "cell_type": "markdown",
      "metadata": {
        "id": "ownUCF0rEBt-"
      },
      "source": [
        "# Data Representation in NLP for ML\n",
        "\n",
        "Unlike human, computers can not understand language directly. For most machine learning models, features can be represented by numbers directly. However, text are a sequence of characters which can not be processed by machine learning model directly. Therefore, we need to convert the text data into a way that model can understand -- vectors."
      ]
    },
    {
      "cell_type": "code",
      "execution_count": 24,
      "metadata": {
        "id": "4qVmNAtN4Kb8"
      },
      "outputs": [],
      "source": []
    },
    {
      "cell_type": "markdown",
      "metadata": {
        "id": "GqmGrZHK4QvT"
      },
      "source": [
        "## Binary representation\n",
        "\n",
        "The most straightforward way is to assign a unique number to each token in the corpus. Then each token can be represneted by a one-hot vector where the dimension of the vector is the size of the vocabulary, 1 indicate the index of the token in the vocabulary and 0 for other indexes."
      ]
    },
    {
      "cell_type": "code",
      "execution_count": 25,
      "metadata": {
        "id": "NPZjWqL7EAsY"
      },
      "outputs": [],
      "source": [
        "docs = [\n",
        "    \"this is an example sentence\",\n",
        "    \"another sentence is here\"\n",
        "]\n",
        "\n",
        "def preprocess(text):\n",
        "    \"\"\"\n",
        "    break a sentence into a list of tokens.\n",
        "    \"\"\"\n",
        "    #char-based model\n",
        "    tokens = text.split()\n",
        "    return tokens\n",
        "\n",
        "def build_vocabulary(docs):\n",
        "    \"\"\"\n",
        "    map the token to an unique idx\n",
        "    \"\"\"\n",
        "    # build vocabulary\n",
        "    # vocabulary that maps each token to a unique id\n",
        "    word2idx = {}\n",
        "    # revert map from uid to token\n",
        "    idx2word = []\n",
        "\n",
        "    for sentence in docs:\n",
        "        for token in sentence:\n",
        "            if token not in word2idx:\n",
        "                word2idx[token] = len(word2idx)\n",
        "                idx2word.append(token)\n",
        "    return word2idx, idx2word"
      ]
    },
    {
      "cell_type": "code",
      "execution_count": 26,
      "metadata": {
        "colab": {
          "base_uri": "https://localhost:8080/"
        },
        "id": "u3aOXifQEAmD",
        "outputId": "828113d2-9189-4a77-d7b7-71ec71455986"
      },
      "outputs": [
        {
          "name": "stdout",
          "output_type": "stream",
          "text": [
            "{'this': 0, 'is': 1, 'an': 2, 'example': 3, 'sentence': 4, 'another': 5, 'here': 6}\n",
            "['this', 'is', 'an', 'example', 'sentence', 'another', 'here']\n",
            "====================\n",
            "this is an example sentence\n",
            "[1, 1, 1, 1, 1, 0, 0]\n",
            "====================\n",
            "another sentence is here\n",
            "[0, 1, 0, 0, 1, 1, 1]\n"
          ]
        }
      ],
      "source": [
        "# convert text to feature vectors\n",
        "def vectorize(docs):\n",
        "    docs = [preprocess(text) for text in docs]\n",
        "\n",
        "    word2idx, idx2word = build_vocabulary(docs)\n",
        "    print(word2idx)\n",
        "    print(idx2word)\n",
        "\n",
        "    for tokens in docs:\n",
        "        # feature = [0,0,0,0,...,0]\n",
        "        feature = [0 for _ in range(len(word2idx))]\n",
        "        for token in tokens:\n",
        "            # ignore out of vocabulary token\n",
        "            if token not in word2idx:\n",
        "                continue\n",
        "            feature[word2idx[token]] = 1\n",
        "        yield feature\n",
        "\n",
        "for doc, feature in zip(docs, vectorize(docs)):\n",
        "    print('=' * 20)\n",
        "    print(doc)\n",
        "    print(feature)"
      ]
    },
    {
      "cell_type": "markdown",
      "metadata": {
        "id": "t_L9VoFRszXd"
      },
      "source": [
        "Let's work on a real dataset"
      ]
    },
    {
      "cell_type": "code",
      "execution_count": 27,
      "metadata": {
        "colab": {
          "base_uri": "https://localhost:8080/"
        },
        "id": "dHsi0y15r_Tj",
        "outputId": "3160de40-c7d9-4b4f-8377-944b967da078"
      },
      "outputs": [
        {
          "data": {
            "text/plain": [
              "(400, 400, 400, 400)"
            ]
          },
          "execution_count": 27,
          "metadata": {},
          "output_type": "execute_result"
        }
      ],
      "source": [
        "# read dataset\n",
        "from pathlib import Path\n",
        "\n",
        "dataset_path = Path('./aclImdb/')\n",
        "\n",
        "LIMIT = 200\n",
        "\n",
        "train_docs = []\n",
        "train_label = []\n",
        "for fid, file in enumerate(dataset_path.glob('train/pos/*.txt')):\n",
        "    if fid >= LIMIT:\n",
        "        break\n",
        "    with file.open() as f:\n",
        "        train_docs.append(f.read().strip())\n",
        "        train_label.append(1)\n",
        "\n",
        "for fid, file in enumerate(dataset_path.glob('train/neg/*.txt')):\n",
        "    if fid >= LIMIT:\n",
        "        break\n",
        "    with file.open() as f:\n",
        "        train_docs.append(f.read().strip())\n",
        "        train_label.append(0)\n",
        "\n",
        "test_docs = []\n",
        "test_label = []\n",
        "for fid, file in enumerate(dataset_path.glob('test/pos/*.txt')):\n",
        "    if fid >= LIMIT:\n",
        "        break\n",
        "    with file.open() as f:\n",
        "        test_docs.append(f.read().strip())\n",
        "        test_label.append(1)\n",
        "\n",
        "for fid, file in enumerate(dataset_path.glob('test/neg/*.txt')):\n",
        "    if fid >= LIMIT:\n",
        "        break\n",
        "    with file.open() as f:\n",
        "        test_docs.append(f.read().strip())\n",
        "        test_label.append(0)\n",
        "len(train_docs), len(train_label), len(test_docs), len(test_label)"
      ]
    },
    {
      "cell_type": "code",
      "execution_count": 28,
      "metadata": {
        "id": "65spYVCas5Ug"
      },
      "outputs": [],
      "source": [
        "# we will use this later\n",
        "def featurize(docs):\n",
        "    docs = [preprocess(text) for text in docs]\n",
        "\n",
        "    word2idx, idx2word = build_vocabulary(docs)\n",
        "\n",
        "    features = []\n",
        "    for tokens in docs:\n",
        "        feature = [0 for _ in range(len(word2idx))]\n",
        "        for token in tokens:\n",
        "            # ignore out of vocabulary token\n",
        "            if token not in word2idx:\n",
        "                continue\n",
        "            feature[word2idx[token]] = 1\n",
        "        features.append(feature)\n",
        "    return features"
      ]
    },
    {
      "cell_type": "markdown",
      "metadata": {
        "id": "OcQXM6SUfGwM"
      },
      "source": [
        "We're going to use a Naive Bayes classifier to do document classification."
      ]
    },
    {
      "cell_type": "markdown",
      "metadata": {
        "id": "QjG6LzDUfCtb"
      },
      "source": [
        "![image.png](data:image/png;base64,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)"
      ]
    },
    {
      "cell_type": "code",
      "execution_count": 29,
      "metadata": {
        "colab": {
          "base_uri": "https://localhost:8080/"
        },
        "id": "xBEf7Kbsr_RD",
        "outputId": "c7cfc652-a917-43a3-c667-e528ceab8c7b"
      },
      "outputs": [
        {
          "name": "stdout",
          "output_type": "stream",
          "text": [
            "              precision    recall  f1-score   support\n",
            "\n",
            "           0     0.6406    0.9000    0.7484       200\n",
            "           1     0.8319    0.4950    0.6207       200\n",
            "\n",
            "    accuracy                         0.6975       400\n",
            "   macro avg     0.7363    0.6975    0.6846       400\n",
            "weighted avg     0.7363    0.6975    0.6846       400\n",
            "\n"
          ]
        }
      ],
      "source": [
        "# train a Naive Bayes classifier\n",
        "from sklearn.naive_bayes import MultinomialNB as NB\n",
        "from sklearn.metrics import classification_report\n",
        "\n",
        "\n",
        "clf = NB()\n",
        "\n",
        "features = featurize(train_docs+test_docs)\n",
        "train_features = features[:len(train_docs)]\n",
        "test_features = features[-len(test_docs):]\n",
        "\n",
        "clf.fit(train_features, train_label)\n",
        "\n",
        "test_prediction = clf.predict(test_features)\n",
        "\n",
        "report = classification_report(test_label, test_prediction, digits=4)\n",
        "print(report)"
      ]
    },
    {
      "cell_type": "code",
      "execution_count": 30,
      "metadata": {
        "id": "Y7uOnPTXlBNH"
      },
      "outputs": [],
      "source": [
        "sentence1 = 'this movie is realy good' # -> [1,1,1,1,1]\n",
        "sentence2 = 'this movie is realy realy good' # -> [1,1,1,2,1]"
      ]
    },
    {
      "cell_type": "markdown",
      "metadata": {
        "id": "hJMlNCI2Bnqn"
      },
      "source": [
        "## Word Count representation\n",
        "\n",
        "Binary representation gives a good illustration of how to represent text for Machine learning. However, it does not consider the occurrency of a word. Then, it is common to see people introduce count of a word in the feature vector."
      ]
    },
    {
      "cell_type": "code",
      "execution_count": 31,
      "metadata": {
        "id": "uUr8_yz-DErD"
      },
      "outputs": [],
      "source": [
        "# convert text to feature vectors\n",
        "def featurize(docs):\n",
        "    docs = [preprocess(text) for text in docs]\n",
        "\n",
        "    word2idx, idx2word = build_vocabulary(docs)\n",
        "\n",
        "    features = []\n",
        "    for tokens in docs:\n",
        "        feature = [0 for _ in range(len(word2idx))]\n",
        "        for token in tokens:\n",
        "            # ignore out of vocabulary token\n",
        "            if token not in word2idx:\n",
        "                continue\n",
        "            feature[word2idx[token]] += 1\n",
        "        features.append(feature)\n",
        "    return features"
      ]
    },
    {
      "cell_type": "code",
      "execution_count": 31,
      "metadata": {
        "id": "mOegB36hmAEY"
      },
      "outputs": [],
      "source": []
    },
    {
      "cell_type": "code",
      "execution_count": 32,
      "metadata": {
        "colab": {
          "base_uri": "https://localhost:8080/"
        },
        "id": "KkHaGjrgvz2D",
        "outputId": "0fe77d9d-945c-4906-e271-ccc645fcd069"
      },
      "outputs": [
        {
          "name": "stdout",
          "output_type": "stream",
          "text": [
            "              precision    recall  f1-score   support\n",
            "\n",
            "           0     0.6360    0.9000    0.7453       200\n",
            "           1     0.8291    0.4850    0.6120       200\n",
            "\n",
            "    accuracy                         0.6925       400\n",
            "   macro avg     0.7326    0.6925    0.6787       400\n",
            "weighted avg     0.7326    0.6925    0.6787       400\n",
            "\n"
          ]
        }
      ],
      "source": [
        "clf = NB()\n",
        "\n",
        "features = featurize(train_docs+test_docs)\n",
        "train_features = features[:len(train_docs)]\n",
        "test_features = features[-len(test_docs):]\n",
        "\n",
        "clf.fit(train_features, train_label)\n",
        "test_prediction = clf.predict(test_features)\n",
        "report = classification_report(test_label, test_prediction, digits=4)\n",
        "print(report)"
      ]
    },
    {
      "cell_type": "markdown",
      "metadata": {
        "id": "Xc2-Tyd9D3NX"
      },
      "source": [
        "Looks like word count in a sample does not boost the accuarcy, but why?\n",
        "\n",
        "Word count capture the local frequency of a word in a sample. Is higher word count means more information? Not necessarily.\n",
        "In Movie Reivew dataset, `movie` can be a very high frequent word, therefore the word count for `movie` in each document is also high. However, it is not a good indicator that a sample is positive or negative. Therefore, we need a global information to help here.\n",
        "\n"
      ]
    },
    {
      "cell_type": "markdown",
      "metadata": {
        "id": "QBbcefb50Z3b"
      },
      "source": [
        "### Term Frequency - Inverse Document Frequency (TF-IDF)\n",
        "\n",
        "As the name suggested, TF-IDF contains two parts -- Term Frequency and Document Frequency.\n",
        "\n",
        "#### Term Frequency\n",
        "The weight of a term that occurs in a document is simply proportional to the term frequency.\n",
        "\n",
        "$\\mathrm {tf} (t,d)={\\frac {f_{t,d}}{\\sum _{t'\\in d}{f_{t',d}}}} = {\\frac {f_{t,d}}{len(d)}}$\n",
        "\n",
        "where $f_{t,d}$ is the count of a term $t$ in a document $d$.\n",
        "\n",
        "#### Document Frequency\n",
        "\n",
        "The inverse document frequency is a measure of how much information the word provides.\n",
        "\n",
        "$\\mathrm{idf}(t, D) =  \\log \\frac{N}{|\\{d \\in D: t \\in d\\}|}$\n",
        "\n",
        "where $N$ is total number of documents in the corpus, $|\\{d \\in D: t \\in d\\}|$ represent the total number of document that contain token $t$.\n",
        "\n",
        "Note that $|\\{d \\in D: t \\in d\\}|$ could be zero if term not in the corpus (during the inference for example), then it is common to see smooth-one adjustment with $1 + |\\{d \\in D: t \\in d\\}|$.\n"
      ]
    },
    {
      "cell_type": "code",
      "execution_count": 33,
      "metadata": {
        "id": "p7Kmcuo4D2sj"
      },
      "outputs": [],
      "source": [
        "# let's code it out.\n",
        "from collections import Counter\n",
        "import math\n",
        "\n",
        "def get_document_frequency(docs, word2idx):\n",
        "    document_frequency = Counter()\n",
        "    for tokens in docs:\n",
        "        for token in set(tokens):\n",
        "            if token not in word2idx:\n",
        "                continue\n",
        "            document_frequency[word2idx[token]] += 1\n",
        "\n",
        "    return document_frequency\n",
        "\n",
        "def tf_idf(tokens, word2idx, document_frequency, total_documents):\n",
        "    feature = [0 for _ in range(len(word2idx))]\n",
        "    for token in tokens:\n",
        "        if token not in word2idx:\n",
        "            continue\n",
        "        token_idx = word2idx[token]\n",
        "        feature[token_idx] += 1/len(tokens) * math.log((total_documents+1) / (document_frequency[token_idx]+1))\n",
        "    return feature\n",
        "\n",
        "def featurize(docs):\n",
        "    docs = [preprocess(text) for text in docs]\n",
        "\n",
        "    word2idx, idx2word = build_vocabulary(docs)\n",
        "    print(len(word2idx))\n",
        "    document_frequency = get_document_frequency(docs, word2idx)\n",
        "\n",
        "    features = []\n",
        "    for tokens in docs:\n",
        "        features.append(tf_idf(tokens, word2idx, document_frequency, len(docs)))\n",
        "    return features"
      ]
    },
    {
      "cell_type": "code",
      "execution_count": 34,
      "metadata": {
        "colab": {
          "base_uri": "https://localhost:8080/"
        },
        "id": "q2luHbhE7cYW",
        "outputId": "feffea98-46dd-46b9-bd46-136d0b885449"
      },
      "outputs": [
        {
          "name": "stdout",
          "output_type": "stream",
          "text": [
            "29049\n",
            "              precision    recall  f1-score   support\n",
            "\n",
            "           0     0.6667    0.9100    0.7696       200\n",
            "           1     0.8583    0.5450    0.6667       200\n",
            "\n",
            "    accuracy                         0.7275       400\n",
            "   macro avg     0.7625    0.7275    0.7181       400\n",
            "weighted avg     0.7625    0.7275    0.7181       400\n",
            "\n"
          ]
        }
      ],
      "source": [
        "clf = NB()\n",
        "\n",
        "features = featurize(train_docs+test_docs)\n",
        "train_features = features[:len(train_docs)]\n",
        "test_features = features[-len(test_docs):]\n",
        "\n",
        "clf.fit(train_features, train_label)\n",
        "test_prediction = clf.predict(test_features)\n",
        "report = classification_report(test_label, test_prediction, digits=4)\n",
        "print(report)"
      ]
    },
    {
      "cell_type": "code",
      "execution_count": 35,
      "metadata": {
        "colab": {
          "base_uri": "https://localhost:8080/"
        },
        "id": "qCINwIn5sHcb",
        "outputId": "d4baa46d-0122-4d66-e23b-c60f0a74c447"
      },
      "outputs": [
        {
          "data": {
            "text/plain": [
              "(28631, 29049)"
            ]
          },
          "execution_count": 35,
          "metadata": {},
          "output_type": "execute_result"
        }
      ],
      "source": [
        "sum(1 for x in features[-1] if x == 0), len(features[-1])"
      ]
    },
    {
      "cell_type": "markdown",
      "metadata": {
        "id": "75ePcdvcubdF"
      },
      "source": [
        "# pre-processing\n",
        "\n",
        "## Curse of dimensionality\n",
        "\n",
        "1. speed\n",
        "2. less training data per feature\n",
        "\n",
        "Example above generate feature vector with dimension of 88k on only 2k documents. On a larger dataset, it can go easily above 3M.\n",
        "\n",
        "Therefore, pre-process on text is needed for NLP + ML."
      ]
    },
    {
      "cell_type": "markdown",
      "metadata": {
        "id": "kNKh9cU6ueAv"
      },
      "source": [
        "## lower-case\n",
        "\n",
        "Most tokens (not all of them) can be lower cased without loosing the information."
      ]
    },
    {
      "cell_type": "code",
      "execution_count": 36,
      "metadata": {
        "id": "hxrH30Gvuq5J"
      },
      "outputs": [],
      "source": [
        "def preprocess(text):\n",
        "    text = text.lower()\n",
        "    tokens = text.split()\n",
        "    return tokens"
      ]
    },
    {
      "cell_type": "markdown",
      "metadata": {
        "id": "7RZ1ipYzyUe2"
      },
      "source": [
        "## Tokenization\n",
        "\n",
        "Tkenization splits a phrase, sentence, paragraph, or an entire text document into a smaller units, such as individual words or terms. Each of these smaller units is called token.\n",
        "\n",
        "If you notice the example above, we use `str.split()` method to get the individual token. It works if the words is seperated by space, but won't work if there is a puncuation in between."
      ]
    },
    {
      "cell_type": "code",
      "execution_count": 37,
      "metadata": {
        "colab": {
          "base_uri": "https://localhost:8080/"
        },
        "id": "LN0zXvlmZGgs",
        "outputId": "fccc260b-79d0-4299-e63d-f9a1e22d2a29"
      },
      "outputs": [
        {
          "data": {
            "text/plain": [
              "['The', 'cat', 'sit', 'on', 'the', 'mat.', '\"cat\"', ',', '$100.00']"
            ]
          },
          "execution_count": 37,
          "metadata": {},
          "output_type": "execute_result"
        }
      ],
      "source": [
        "text = 'The cat sit on the mat. \"cat\" , $100.00 '\n",
        "text.split()"
      ]
    },
    {
      "cell_type": "markdown",
      "metadata": {
        "id": "bwAwMbN3ZNOK"
      },
      "source": [
        "Therefore, we need a more advanced tokenizer to remove the puncuation."
      ]
    },
    {
      "cell_type": "code",
      "execution_count": 38,
      "metadata": {
        "colab": {
          "base_uri": "https://localhost:8080/"
        },
        "id": "K9EAOHtgZScR",
        "outputId": "c3fc9dc7-ebb1-4018-cc39-f3f53b941d14"
      },
      "outputs": [
        {
          "data": {
            "text/plain": [
              "['the', 'cat', 'sit', 'on', 'the', 'mat', 'cat', '100', '00']"
            ]
          },
          "execution_count": 38,
          "metadata": {},
          "output_type": "execute_result"
        }
      ],
      "source": [
        "import re\n",
        "PATTERN = r\"\\w+\"\n",
        "tokenizer = re.compile(PATTERN)\n",
        "\n",
        "def preprocess(text):\n",
        "    text = text.lower()\n",
        "    tokens = tokenizer.findall(text)\n",
        "    return tokens\n",
        "\n",
        "preprocess(text)"
      ]
    },
    {
      "cell_type": "code",
      "execution_count": 39,
      "metadata": {
        "id": "aAAO4hOH1QxW"
      },
      "outputs": [],
      "source": [
        "# nltk.wordtokenizer"
      ]
    },
    {
      "cell_type": "markdown",
      "metadata": {
        "id": "syV6FNcpaYGJ"
      },
      "source": [
        "Common patterns:\n",
        "\n",
        "- basic: `r\"\\w+\"`\n",
        "- white space: `r\"\\s+\"`\n",
        "- word puncuation: `r\"\\w+|[^\\w\\s]+\"`\n",
        "- sklearn default: `r\"(?u)\\b\\w\\w+\\b\"`"
      ]
    },
    {
      "cell_type": "markdown",
      "metadata": {
        "id": "SqSwWgZIug88"
      },
      "source": [
        "## stop words\n",
        "\n",
        "\n",
        "### what is stop words?\n",
        "A stop word is a commonly used word (such as “the”, “a”, “an”, “in”) that provides less information in a sentence."
      ]
    },
    {
      "cell_type": "code",
      "execution_count": 40,
      "metadata": {
        "colab": {
          "base_uri": "https://localhost:8080/"
        },
        "id": "tkVBE3l23E1f",
        "outputId": "2563d02b-ace5-4d72-f71b-73c47e021774"
      },
      "outputs": [
        {
          "name": "stderr",
          "output_type": "stream",
          "text": [
            "[nltk_data] Downloading package stopwords to /root/nltk_data...\n",
            "[nltk_data]   Package stopwords is already up-to-date!\n"
          ]
        },
        {
          "data": {
            "text/plain": [
              "{'a',\n",
              " 'about',\n",
              " 'above',\n",
              " 'after',\n",
              " 'again',\n",
              " 'against',\n",
              " 'ain',\n",
              " 'all',\n",
              " 'am',\n",
              " 'an',\n",
              " 'and',\n",
              " 'any',\n",
              " 'are',\n",
              " 'aren',\n",
              " \"aren't\",\n",
              " 'as',\n",
              " 'at',\n",
              " 'be',\n",
              " 'because',\n",
              " 'been',\n",
              " 'before',\n",
              " 'being',\n",
              " 'below',\n",
              " 'between',\n",
              " 'both',\n",
              " 'but',\n",
              " 'by',\n",
              " 'can',\n",
              " 'couldn',\n",
              " \"couldn't\",\n",
              " 'd',\n",
              " 'did',\n",
              " 'didn',\n",
              " \"didn't\",\n",
              " 'do',\n",
              " 'does',\n",
              " 'doesn',\n",
              " \"doesn't\",\n",
              " 'doing',\n",
              " 'don',\n",
              " \"don't\",\n",
              " 'down',\n",
              " 'during',\n",
              " 'each',\n",
              " 'few',\n",
              " 'for',\n",
              " 'from',\n",
              " 'further',\n",
              " 'had',\n",
              " 'hadn',\n",
              " \"hadn't\",\n",
              " 'has',\n",
              " 'hasn',\n",
              " \"hasn't\",\n",
              " 'have',\n",
              " 'haven',\n",
              " \"haven't\",\n",
              " 'having',\n",
              " 'he',\n",
              " 'her',\n",
              " 'here',\n",
              " 'hers',\n",
              " 'herself',\n",
              " 'him',\n",
              " 'himself',\n",
              " 'his',\n",
              " 'how',\n",
              " 'i',\n",
              " 'if',\n",
              " 'in',\n",
              " 'into',\n",
              " 'is',\n",
              " 'isn',\n",
              " \"isn't\",\n",
              " 'it',\n",
              " \"it's\",\n",
              " 'its',\n",
              " 'itself',\n",
              " 'just',\n",
              " 'll',\n",
              " 'm',\n",
              " 'ma',\n",
              " 'me',\n",
              " 'mightn',\n",
              " \"mightn't\",\n",
              " 'more',\n",
              " 'most',\n",
              " 'mustn',\n",
              " \"mustn't\",\n",
              " 'my',\n",
              " 'myself',\n",
              " 'needn',\n",
              " \"needn't\",\n",
              " 'no',\n",
              " 'nor',\n",
              " 'not',\n",
              " 'now',\n",
              " 'o',\n",
              " 'of',\n",
              " 'off',\n",
              " 'on',\n",
              " 'once',\n",
              " 'only',\n",
              " 'or',\n",
              " 'other',\n",
              " 'our',\n",
              " 'ours',\n",
              " 'ourselves',\n",
              " 'out',\n",
              " 'over',\n",
              " 'own',\n",
              " 're',\n",
              " 's',\n",
              " 'same',\n",
              " 'shan',\n",
              " \"shan't\",\n",
              " 'she',\n",
              " \"she's\",\n",
              " 'should',\n",
              " \"should've\",\n",
              " 'shouldn',\n",
              " \"shouldn't\",\n",
              " 'so',\n",
              " 'some',\n",
              " 'such',\n",
              " 't',\n",
              " 'than',\n",
              " 'that',\n",
              " \"that'll\",\n",
              " 'the',\n",
              " 'their',\n",
              " 'theirs',\n",
              " 'them',\n",
              " 'themselves',\n",
              " 'then',\n",
              " 'there',\n",
              " 'these',\n",
              " 'they',\n",
              " 'this',\n",
              " 'those',\n",
              " 'through',\n",
              " 'to',\n",
              " 'too',\n",
              " 'under',\n",
              " 'until',\n",
              " 'up',\n",
              " 've',\n",
              " 'very',\n",
              " 'was',\n",
              " 'wasn',\n",
              " \"wasn't\",\n",
              " 'we',\n",
              " 'were',\n",
              " 'weren',\n",
              " \"weren't\",\n",
              " 'what',\n",
              " 'when',\n",
              " 'where',\n",
              " 'which',\n",
              " 'while',\n",
              " 'who',\n",
              " 'whom',\n",
              " 'why',\n",
              " 'will',\n",
              " 'with',\n",
              " 'won',\n",
              " \"won't\",\n",
              " 'wouldn',\n",
              " \"wouldn't\",\n",
              " 'y',\n",
              " 'you',\n",
              " \"you'd\",\n",
              " \"you'll\",\n",
              " \"you're\",\n",
              " \"you've\",\n",
              " 'your',\n",
              " 'yours',\n",
              " 'yourself',\n",
              " 'yourselves'}"
            ]
          },
          "execution_count": 40,
          "metadata": {},
          "output_type": "execute_result"
        }
      ],
      "source": [
        "# download nltk stopwords list\n",
        "import nltk\n",
        "nltk.download('stopwords')\n",
        "\n",
        "from nltk.corpus import stopwords\n",
        "\n",
        "STOP_WORDS = set(stopwords.words('english'))\n",
        "\n",
        "STOP_WORDS"
      ]
    },
    {
      "cell_type": "code",
      "execution_count": 41,
      "metadata": {
        "id": "Q9qxxYsoB6rC"
      },
      "outputs": [],
      "source": [
        "def preprocess(text):\n",
        "    text = text.lower()\n",
        "    tokens = tokenizer.findall(text)\n",
        "    tokens = [token for token in tokens if token not in STOP_WORDS]\n",
        "    return tokens"
      ]
    },
    {
      "cell_type": "code",
      "execution_count": 42,
      "metadata": {
        "colab": {
          "base_uri": "https://localhost:8080/"
        },
        "id": "LHQopirl1_kZ",
        "outputId": "ec52d25a-47a3-47d2-f712-7b8975e5699f"
      },
      "outputs": [
        {
          "name": "stdout",
          "output_type": "stream",
          "text": [
            "15688\n"
          ]
        }
      ],
      "source": [
        "features = featurize(train_docs+test_docs)"
      ]
    },
    {
      "cell_type": "code",
      "execution_count": 43,
      "metadata": {
        "colab": {
          "base_uri": "https://localhost:8080/"
        },
        "id": "7nAWTT-62ElK",
        "outputId": "017badbf-9ed2-4bd7-aef1-44e8fd12fd41"
      },
      "outputs": [
        {
          "name": "stdout",
          "output_type": "stream",
          "text": [
            "15688\n",
            "              precision    recall  f1-score   support\n",
            "\n",
            "           0     0.7377    0.9000    0.8108       200\n",
            "           1     0.8718    0.6800    0.7640       200\n",
            "\n",
            "    accuracy                         0.7900       400\n",
            "   macro avg     0.8047    0.7900    0.7874       400\n",
            "weighted avg     0.8047    0.7900    0.7874       400\n",
            "\n"
          ]
        }
      ],
      "source": [
        "clf = NB()\n",
        "\n",
        "features = featurize(train_docs+test_docs)\n",
        "train_features = features[:len(train_docs)]\n",
        "test_features = features[-len(test_docs):]\n",
        "\n",
        "clf.fit(train_features, train_label)\n",
        "test_prediction = clf.predict(test_features)\n",
        "report = classification_report(test_label, test_prediction, digits=4)\n",
        "print(report)"
      ]
    },
    {
      "cell_type": "markdown",
      "metadata": {
        "id": "sVq4DCyfToLU"
      },
      "source": [
        "### bag-of-words and n-grams\n",
        "\n",
        "If you notice the code above, each dimension of the feature represent a single word. Then each sentence/document can be represented by a vector with 0 and the tf-idf of its words. Yet the order of those tokens are not represented. e.g.\n",
        "\n",
        "`The white dog is chasing the black cat` and `The cat is chasing the black white dog` will have the same feature vector. It is like we throw the words in to bags where each bag represents a word. And we can use the number of words in all bags to represent the sentence. Therefore, this technique is also known as bag-of-words.\n",
        "\n",
        "### how to reseve the order of the words\n",
        "\n",
        "Just like the example above, bag-of-words on single words does not preseve the order information of the words. In reality, people will use longer than one word to in their language to represent something. e.g. `apple tree`. Then we can create token with multiple words together to capture more information. We call this method n-grams.\n",
        "\n",
        "In `n-grams`, `n` represent the number of the token in the gram.\n",
        "- `n = 1`, uni-gram\n",
        "- `n = 2`, bi-gram\n",
        "- `n = 3`, tri-gram, or 3-gram\n",
        "\n",
        "In practice, `n=3` is the largest setting we use."
      ]
    },
    {
      "cell_type": "code",
      "execution_count": 44,
      "metadata": {
        "id": "hnlzj18U36Ba"
      },
      "outputs": [],
      "source": [
        "# \"a b c d\" => \"a\" \"b\" \"c\" \"d\" -> uni-gram\n",
        "# \"a b c d\" => \"a b\" \"b c\" \"c d\" -> bigram\n",
        "# \"a b c d\" => \"a b c\" \"b c d\" -> trigram"
      ]
    },
    {
      "cell_type": "code",
      "execution_count": 45,
      "metadata": {
        "colab": {
          "base_uri": "https://localhost:8080/"
        },
        "id": "Nj5-b9N3Wi6O",
        "outputId": "0e591ebe-7c02-417e-9c94-8b00e080397e"
      },
      "outputs": [
        {
          "data": {
            "text/plain": [
              "['white',\n",
              " 'dogs',\n",
              " 'chasing',\n",
              " 'black',\n",
              " 'cat',\n",
              " ('white', 'dogs'),\n",
              " ('dogs', 'chasing'),\n",
              " ('chasing', 'black'),\n",
              " ('black', 'cat')]"
            ]
          },
          "execution_count": 45,
          "metadata": {},
          "output_type": "execute_result"
        }
      ],
      "source": [
        "def preprocess(text):\n",
        "    text = text.lower()\n",
        "    tokens = tokenizer.findall(text)\n",
        "    tokens = [token for token in tokens if token not in STOP_WORDS]\n",
        "    # bigram\n",
        "    tokens += list(zip(tokens[:-1], tokens[1:]))\n",
        "    return tokens\n",
        "\n",
        "preprocess('The white dogs are chasing the black cat')"
      ]
    },
    {
      "cell_type": "markdown",
      "metadata": {
        "id": "usgKfTXIujjV"
      },
      "source": [
        "## stemming\n",
        "\n",
        "Stemming is an NLP technique that lowers inflection in words to their root forms. e.g.\n",
        "\n",
        "- `dogs` -> `dog`\n",
        "- `interesting` -> `interest`"
      ]
    },
    {
      "cell_type": "code",
      "execution_count": 46,
      "metadata": {
        "colab": {
          "base_uri": "https://localhost:8080/"
        },
        "id": "VwgCKfPCuSid",
        "outputId": "f1332656-5175-4cc2-800a-a5c8308f6ae0"
      },
      "outputs": [
        {
          "data": {
            "text/plain": [
              "['dog', 'interest', 'acquisit', 'acquir', 'acquir']"
            ]
          },
          "execution_count": 46,
          "metadata": {},
          "output_type": "execute_result"
        }
      ],
      "source": [
        "from nltk.stem import SnowballStemmer\n",
        "stemmer = SnowballStemmer(\"english\")\n",
        "\n",
        "[stemmer.stem(x) for x in ['dogs', 'interesting', 'acquisition', 'acquire', 'acquires']]"
      ]
    },
    {
      "cell_type": "code",
      "execution_count": 47,
      "metadata": {
        "colab": {
          "base_uri": "https://localhost:8080/"
        },
        "id": "u6EGRTbGuas_",
        "outputId": "d74159bb-cd7b-4a07-bce1-9f010f9a30e0"
      },
      "outputs": [
        {
          "data": {
            "text/plain": [
              "[('white',),\n",
              " ('white', 'dog'),\n",
              " ('white', 'dog', 'chase'),\n",
              " ('dog',),\n",
              " ('dog', 'chase'),\n",
              " ('dog', 'chase', 'black'),\n",
              " ('chase',),\n",
              " ('chase', 'black'),\n",
              " ('chase', 'black', 'cat'),\n",
              " ('black',),\n",
              " ('black', 'cat'),\n",
              " ('cat',)]"
            ]
          },
          "execution_count": 47,
          "metadata": {},
          "output_type": "execute_result"
        }
      ],
      "source": [
        "from nltk.util import everygrams\n",
        "def preprocess(text):\n",
        "    text = text.lower()\n",
        "    tokens = tokenizer.findall(text)\n",
        "    tokens = [token for token in tokens if token not in STOP_WORDS]\n",
        "    tokens = [stemmer.stem(token) for token in tokens]\n",
        "    tokens = list(everygrams(tokens,min_len=1, max_len=3))\n",
        "    # tokens += list(zip(tokens[:-1], tokens[1:]))\n",
        "    return tokens\n",
        "\n",
        "preprocess('The white dog is chasing the black cat')"
      ]
    },
    {
      "cell_type": "code",
      "execution_count": 48,
      "metadata": {
        "colab": {
          "base_uri": "https://localhost:8080/"
        },
        "id": "se8pbEtPDpv6",
        "outputId": "f96f30a7-53e0-4909-dacf-dc228fef4c54"
      },
      "outputs": [
        {
          "name": "stdout",
          "output_type": "stream",
          "text": [
            "179477\n",
            "              precision    recall  f1-score   support\n",
            "\n",
            "           0     0.7532    0.8850    0.8138       200\n",
            "           1     0.8606    0.7100    0.7781       200\n",
            "\n",
            "    accuracy                         0.7975       400\n",
            "   macro avg     0.8069    0.7975    0.7959       400\n",
            "weighted avg     0.8069    0.7975    0.7959       400\n",
            "\n"
          ]
        }
      ],
      "source": [
        "clf = NB()\n",
        "\n",
        "features = featurize(train_docs+test_docs)\n",
        "train_features = features[:len(train_docs)]\n",
        "test_features = features[-len(test_docs):]\n",
        "\n",
        "clf.fit(train_features, train_label)\n",
        "test_prediction = clf.predict(test_features)\n",
        "report = classification_report(test_label, test_prediction, digits=4)\n",
        "print(report)"
      ]
    },
    {
      "cell_type": "code",
      "execution_count": 49,
      "metadata": {
        "id": "ZEDbc3bW_7wf"
      },
      "outputs": [],
      "source": [
        "from sklearn.feature_extraction.text import CountVectorizer\n",
        "from sklearn.feature_extraction.text import TfidfVectorizer\n"
      ]
    },
    {
      "cell_type": "code",
      "execution_count": 50,
      "metadata": {
        "colab": {
          "base_uri": "https://localhost:8080/"
        },
        "id": "CqHmpKWsAA2M",
        "outputId": "a6f33506-dc23-4100-8857-bb4df0039a07"
      },
      "outputs": [
        {
          "data": {
            "text/plain": [
              "(400, 47665)"
            ]
          },
          "execution_count": 50,
          "metadata": {},
          "output_type": "execute_result"
        }
      ],
      "source": [
        "# without any preprocessing\n",
        "vectorizer = TfidfVectorizer(ngram_range=(1,2), stop_words='english')\n",
        "train_features = vectorizer.fit_transform(train_docs)\n",
        "\n",
        "test_features = vectorizer.transform(test_docs)\n",
        "train_features.shape"
      ]
    },
    {
      "cell_type": "code",
      "execution_count": 51,
      "metadata": {
        "colab": {
          "base_uri": "https://localhost:8080/"
        },
        "id": "_pA5jCHBAOpH",
        "outputId": "c8c76a06-b773-4917-e6d4-f57ba6f41fab"
      },
      "outputs": [
        {
          "name": "stdout",
          "output_type": "stream",
          "text": [
            "              precision    recall  f1-score   support\n",
            "\n",
            "           0     0.7132    0.9450    0.8129       200\n",
            "           1     0.9185    0.6200    0.7403       200\n",
            "\n",
            "    accuracy                         0.7825       400\n",
            "   macro avg     0.8159    0.7825    0.7766       400\n",
            "weighted avg     0.8159    0.7825    0.7766       400\n",
            "\n"
          ]
        }
      ],
      "source": [
        "clf = NB()\n",
        "\n",
        "clf.fit(train_features, train_label)\n",
        "\n",
        "test_prediction = clf.predict(test_features)\n",
        "\n",
        "report = classification_report(test_label, test_prediction, digits=4)\n",
        "print(report)"
      ]
    },
    {
      "cell_type": "code",
      "execution_count": 51,
      "metadata": {
        "id": "gDPwEHCxyWLk"
      },
      "outputs": [],
      "source": []
    }
  ],
  "metadata": {
    "colab": {
      "provenance": []
    },
    "kernelspec": {
      "display_name": "Python 3",
      "name": "python3"
    },
    "language_info": {
      "name": "python"
    }
  },
  "nbformat": 4,
  "nbformat_minor": 0
}
